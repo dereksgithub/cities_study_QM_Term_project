{
 "cells": [
  {
   "cell_type": "markdown",
   "metadata": {},
   "source": []
  },
  {
   "cell_type": "code",
   "execution_count": null,
   "metadata": {},
   "outputs": [],
   "source": [
    "from sklearn.model_selection import train_test_split\n",
    "\n",
    "# Splitting the dataset into training and testing sets\n",
    "X_train, X_test, y_train, y_test = train_test_split(cdc_regression_drop, cdc_regression['Coronary_heart_disease_among_adults_aged_GE18_years'], test_size=0.2, random_state=42)"
   ]
  },
  {
   "cell_type": "code",
   "execution_count": null,
   "metadata": {},
   "outputs": [],
   "source": [
    "from sklearn.ensemble import RandomForestRegressor\n",
    "from sklearn.metrics import mean_squared_error\n",
    "\n",
    "# Initialize the Random Forest Regressor\n",
    "rf_regressor = RandomForestRegressor(n_estimators=100, random_state=42)\n",
    "\n",
    "# Train the model on the training data\n",
    "rf_regressor.fit(X_train, y_train)\n"
   ]
  },
  {
   "cell_type": "code",
   "execution_count": null,
   "metadata": {},
   "outputs": [],
   "source": [
    "# Make predictions on the test set\n",
    "y_pred = rf_regressor.predict(X_test)\n",
    "\n",
    "# Evaluate the model\n",
    "mse = mean_squared_error(y_test, y_pred)\n",
    "print(\"Mean Squared Error:\", mse)"
   ]
  },
  {
   "cell_type": "code",
   "execution_count": null,
   "metadata": {},
   "outputs": [],
   "source": [
    "from sklearn.metrics import mean_absolute_error\n",
    "\n",
    "mae = mean_absolute_error(y_test, y_pred)\n",
    "print(\"Mean Absolute Error:\", mae)"
   ]
  },
  {
   "cell_type": "code",
   "execution_count": null,
   "metadata": {},
   "outputs": [],
   "source": [
    "from sklearn.metrics import r2_score\n",
    "\n",
    "r2 = r2_score(y_test, y_pred)\n",
    "print(\"R-squared:\", r2)"
   ]
  },
  {
   "cell_type": "code",
   "execution_count": null,
   "metadata": {},
   "outputs": [],
   "source": [
    "feature_importances = rf_regressor.feature_importances_\n",
    "# Create a Series for easier plotting\n",
    "importances = pd.Series(feature_importances, index=X_train.columns)\n",
    "importances.sort_values(ascending=False).plot(kind='bar')\n"
   ]
  },
  {
   "cell_type": "code",
   "execution_count": null,
   "metadata": {},
   "outputs": [],
   "source": [
    "# Scatter plot for actual values\n",
    "plt.scatter(y_test.index, y_test, color='blue', label='Actual Values')\n",
    "\n",
    "# Scatter plot for predicted values\n",
    "plt.scatter(y_test.index, y_pred, color='red', alpha=0.5, label='Predicted Values')\n",
    "\n",
    "plt.xlabel('Index')\n",
    "plt.ylabel('Values')\n",
    "plt.title('Actual vs Predicted Values')\n",
    "plt.legend()\n",
    "plt.show()"
   ]
  },
  {
   "cell_type": "markdown",
   "metadata": {},
   "source": []
  },
  {
   "cell_type": "code",
   "execution_count": null,
   "metadata": {},
   "outputs": [],
   "source": [
    "from sklearn.ensemble import RandomForestRegressor\n",
    "from sklearn.model_selection import cross_val_score\n",
    "\n",
    "# Initialize the Random Forest Regressor\n",
    "rf_regressor = RandomForestRegressor(n_estimators=100, random_state=42)\n",
    "\n",
    "X = cdc_regression_drop\n",
    "y = cdc_regression['Coronary_heart_disease_among_adults_aged_GE18_years']\n",
    "\n",
    "# Perform cross-validation\n",
    "scores = cross_val_score(rf_regressor, X, y, cv=10, scoring='neg_mean_squared_error')\n",
    "rf_regressor.fit(X, y)\n",
    "# Convert scores to positive values (because 'neg_mean_squared_error' returns negative values)\n",
    "mse_scores = -scores\n",
    "\n",
    "# Calculate RMSE for each fold\n",
    "rmse_scores = np.sqrt(mse_scores)\n",
    "print(\"RMSE scores for each fold:\", rmse_scores)\n",
    "print(\"Mean RMSE:\", rmse_scores.mean())\n",
    "print(\"Standard Deviation of RMSE:\", rmse_scores.std())\n",
    "\n",
    "# Get R-squared scores\n",
    "rs_scores = cross_val_score(rf_regressor, X, y, cv=10, scoring='r2')\n",
    "print(\"R-squared scores for each fold:\", rs_scores)\n",
    "print(\"Mean R-squared:\", rs_scores.mean())\n",
    "\n",
    "\n",
    "# Perform cross-validation\n",
    "\n",
    "#scores = cross_val_score(rf_regressor, X, y, cv=10, scoring='neg_mean_squared_error')\n",
    "\n",
    "\n",
    "# Convert scores to positive values (because 'neg_mean_squared_error' returns negative values)\n",
    "#mse_scores = -scores\n",
    "\n",
    "# Calculate RMSE for each fold\n",
    "#rmse_scores = np.sqrt(mse_scores)\n",
    "#print(\"RMSE scores for each fold:\", rmse_scores)\n",
    "#print(\"Mean RMSE:\", rmse_scores.mean())\n",
    "#print(\"Standard Deviation of RMSE:\", rmse_scores.std())\n",
    "\n",
    "\n",
    "\n",
    "# get rsquared scores\n",
    "#rs_scores = cross_val_score(rf_regressor, X, y, cv=10, scoring='r2')\n",
    "# rsquared: the higher the better\n",
    "print(\"R-squared scores for each fold:\", rs_scores)\n",
    "print(\"Mean R-squared:\", rs_scores.mean())"
   ]
  },
  {
   "cell_type": "code",
   "execution_count": null,
   "metadata": {},
   "outputs": [],
   "source": [
    "print(\"Mean R-squared:\", rs_scores.mean())\n"
   ]
  },
  {
   "cell_type": "code",
   "execution_count": null,
   "metadata": {},
   "outputs": [],
   "source": [
    "# Scatter plot for actual values\n",
    "plt.scatter(y_test.index, y_test, color='blue', label='Actual Values')\n",
    "\n",
    "# Scatter plot for predicted values\n",
    "plt.scatter(y_test.index, y_pred, color='red', alpha=0.5, label='Predicted Values')\n",
    "\n",
    "plt.xlabel('Index')\n",
    "plt.ylabel('Values')\n",
    "plt.title('Actual vs Predicted Values')\n",
    "plt.legend()\n",
    "plt.show()"
   ]
  },
  {
   "cell_type": "code",
   "execution_count": null,
   "metadata": {},
   "outputs": [],
   "source": [
    "from sklearn import tree\n",
    "\n",
    "\n",
    "fn=cdc_regression_drop.columns\n",
    "cn='Coronary_heart_disease_among_adults_aged_GE18_years'\n",
    "fig, axes = plt.subplots(nrows = 1,ncols = 1,figsize = (4,4), dpi=800)\n",
    "# plot a single tree\n",
    "estimator_rf = rf_regressor.estimators_[0]\n",
    "tree.plot_tree(estimator_rf , feature_names = fn, filled = True);\n",
    "fig.savefig('rf_individualtree.png')"
   ]
  },
  {
   "cell_type": "code",
   "execution_count": null,
   "metadata": {},
   "outputs": [],
   "source": []
  }
 ],
 "metadata": {
  "language_info": {
   "name": "python"
  }
 },
 "nbformat": 4,
 "nbformat_minor": 2
}
