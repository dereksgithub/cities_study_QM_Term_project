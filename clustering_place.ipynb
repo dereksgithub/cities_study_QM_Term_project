{
 "cells": [
  {
   "cell_type": "markdown",
   "metadata": {},
   "source": [
    "### Part4 Clustering Analysis\n",
    "\n",
    "#### 4.1 K-Means"
   ]
  },
  {
   "cell_type": "code",
   "execution_count": 1,
   "metadata": {},
   "outputs": [],
   "source": [
    "import pandas as pd\n",
    "import numpy as np\n",
    "import matplotlib.pyplot as plt\n",
    "import seaborn as sns\n",
    "import os\n",
    "import sys\n",
    "import time\n",
    "import datetime\n",
    "import math\n",
    "import pandas as pd\n",
    "import plotly.express as px\n",
    "import re"
   ]
  },
  {
   "cell_type": "code",
   "execution_count": 2,
   "metadata": {},
   "outputs": [],
   "source": [
    "cdc_20_21 = pd.read_csv(r'/mnt/d/OneDrive - University College London/T1/CASA0007/0. Research Project/cleaned_data/combined_df.csv', encoding = \"UTF-8\")"
   ]
  },
  {
   "cell_type": "code",
   "execution_count": 3,
   "metadata": {},
   "outputs": [],
   "source": [
    "cdc_20_21_new = cdc_20_21.drop(columns=['Location'])"
   ]
  },
  {
   "cell_type": "markdown",
   "metadata": {},
   "source": [
    "Apply K-means clustering on the dataset:\n",
    "\n",
    "Cluster the data according to the following 4 areas:\n",
    "\n",
    "health outcomes, preventive services use, health risk behaviors, disabilities, and health status.\n",
    "\n",
    "13 for health outcomes, 9 for preventive services use, 4 for chronic disease-related health risk behaviors, these are interesting for studying population health.\n",
    "\n",
    "7 for disabilities, and 3 for health status these two are related to accidents, socio-economic factors, ignored for now."
   ]
  },
  {
   "cell_type": "markdown",
   "metadata": {},
   "source": [
    "1. Health Outcomes"
   ]
  },
  {
   "cell_type": "code",
   "execution_count": 5,
   "metadata": {},
   "outputs": [],
   "source": [
    "cdc_health_outcomes = cdc_20_21_new.drop(columns=[ 'Cervical cancer screening among adult women aged 21-65 years',\n",
    "       'Fecal occult blood test, sigmoidoscopy, or colonoscopy among adults aged 50-75 years',\n",
    "       'Mammography use among women aged 50-74 years',\n",
    "       'Older adult men aged >=65 years who are up to date on a core set of clinical preventive services: Flu shot past year, PPV shot ever, Colorectal cancer screening',\n",
    "       'Older adult women aged >=65 years who are up to date on a core set of clinical preventive services: Flu shot past year, PPV shot ever, Colorectal cancer screening, and Mammogram past 2 years',\n",
    "       'Sleeping less than 7 hours among adults aged >=18 years',\n",
    "       'Visits to dentist or dental clinic among adults aged >=18 years',\n",
    "       'Any disability among adults aged >=18 years',\n",
    "       'Binge drinking among adults aged >=18 years',\n",
    "       'Current smoking among adults aged >=18 years',\n",
    "       'Cholesterol screening among adults aged >=18 years',\n",
    "       'Chronic kidney disease among adults aged >=18 years',\n",
    "       'Chronic obstructive pulmonary disease among adults aged >=18 years',\n",
    "       'Cognitive disability among adults ages >=18 years',\n",
    "       'Diagnosed diabetes among adults aged >=18 years',\n",
    "       'Fair or poor self-rated health status among adults aged >=18 years',\n",
    "       'Hearing disability among adults aged >=18 years',\n",
    "       'Independent living disability among adults aged >=18 years',\n",
    "       'Mobility disability among adults aged >=18 years',\n",
    "       'No leisure-time physical activity among adults aged >=18 years',\n",
    "       'Self-care disability among adults aged >=18 years',\n",
    "       'Taking medicine for high blood pressure control among adults aged >=18 years with high blood pressure',\n",
    "       'Vision disability among adults aged >=18 years',\n",
    "       'Visits to doctor for routine checkup within the past year among adults aged >=18 years'])"
   ]
  },
  {
   "cell_type": "code",
   "execution_count": 5,
   "metadata": {},
   "outputs": [
    {
     "data": {
      "text/plain": [
       "Index(['All teeth lost among adults aged >=65 years',\n",
       "       'Arthritis among adults aged >=18 years',\n",
       "       'Cancer (excluding skin cancer) among adults aged >=18 years',\n",
       "       'Coronary heart disease among adults aged >=18 years',\n",
       "       'Current asthma among adults aged >=18 years',\n",
       "       'Current lack of health insurance among adults aged 18-64 years',\n",
       "       'Current smoking among adults aged >=18 years',\n",
       "       'Depression among adults aged >=18 years',\n",
       "       'High blood pressure among adults aged >=18 years',\n",
       "       'High cholesterol among adults aged >=18 years who have been screened in the past 5 years',\n",
       "       'Obesity among adults aged >=18 years',\n",
       "       'Physical health not good for >=14 days among adults aged >=18 years',\n",
       "       'Stroke among adults aged >=18 years'],\n",
       "      dtype='object')"
      ]
     },
     "execution_count": 5,
     "metadata": {},
     "output_type": "execute_result"
    }
   ],
   "source": [
    "cdc_health_outcomes.columns"
   ]
  },
  {
   "cell_type": "markdown",
   "metadata": {},
   "source": [
    "2. preventive services use"
   ]
  },
  {
   "cell_type": "code",
   "execution_count": 6,
   "metadata": {},
   "outputs": [],
   "source": [
    "cdc_pservices = cdc_20_21_new.drop(columns=[ 'All teeth lost among adults aged >=65 years',\n",
    "       'Sleeping less than 7 hours among adults aged >=18 years',\n",
    "\t'Any disability among adults aged >=18 years',\n",
    "       'Arthritis among adults aged >=18 years',\n",
    "       'Binge drinking among adults aged >=18 years',\n",
    "       'Cancer (excluding skin cancer) among adults aged >=18 years',\n",
    "       'Chronic kidney disease among adults aged >=18 years',\n",
    "       'Chronic obstructive pulmonary disease among adults aged >=18 years',\n",
    "       'Cognitive disability among adults ages >=18 years',\n",
    "       'Coronary heart disease among adults aged >=18 years',\n",
    "       'Current asthma among adults aged >=18 years',\n",
    "       'Current lack of health insurance among adults aged 18-64 years',\n",
    "       'Current smoking among adults aged >=18 years',\n",
    "       'Depression among adults aged >=18 years',\n",
    "       'Diagnosed diabetes among adults aged >=18 years',\n",
    "       'Fair or poor self-rated health status among adults aged >=18 years',\n",
    "       'Hearing disability among adults aged >=18 years',\n",
    "       'High blood pressure among adults aged >=18 years',\n",
    "       'High cholesterol among adults aged >=18 years who have been screened in the past 5 years',\n",
    "       'Independent living disability among adults aged >=18 years',\n",
    "       'Mental health not good for >=14 days among adults aged >=18 years',\n",
    "       'Mobility disability among adults aged >=18 years',\n",
    "       'No leisure-time physical activity among adults aged >=18 years',\n",
    "       'Obesity among adults aged >=18 years',\n",
    "       'Physical health not good for >=14 days among adults aged >=18 years',\n",
    "       'Self-care disability among adults aged >=18 years',\n",
    "       'Stroke among adults aged >=18 years',\n",
    "       'Vision disability among adults aged >=18 years'])"
   ]
  },
  {
   "cell_type": "code",
   "execution_count": 7,
   "metadata": {},
   "outputs": [
    {
     "data": {
      "text/plain": [
       "Index(['Cervical cancer screening among adult women aged 21-65 years',\n",
       "       'Fecal occult blood test, sigmoidoscopy, or colonoscopy among adults aged 50-75 years',\n",
       "       'Mammography use among women aged 50-74 years',\n",
       "       'Older adult men aged >=65 years who are up to date on a core set of clinical preventive services: Flu shot past year, PPV shot ever, Colorectal cancer screening',\n",
       "       'Older adult women aged >=65 years who are up to date on a core set of clinical preventive services: Flu shot past year, PPV shot ever, Colorectal cancer screening, and Mammogram past 2 years',\n",
       "       'Visits to dentist or dental clinic among adults aged >=18 years',\n",
       "       'Cholesterol screening among adults aged >=18 years',\n",
       "       'Taking medicine for high blood pressure control among adults aged >=18 years with high blood pressure',\n",
       "       'Visits to doctor for routine checkup within the past year among adults aged >=18 years'],\n",
       "      dtype='object')"
      ]
     },
     "execution_count": 7,
     "metadata": {},
     "output_type": "execute_result"
    }
   ],
   "source": [
    "cdc_pservices.columns"
   ]
  },
  {
   "cell_type": "markdown",
   "metadata": {},
   "source": [
    "3. Risky Behaviours"
   ]
  },
  {
   "cell_type": "code",
   "execution_count": 8,
   "metadata": {},
   "outputs": [],
   "source": [
    "cdc_risks = cdc_20_21_new.drop(columns=[ 'All teeth lost among adults aged >=65 years',\n",
    "       'Cervical cancer screening among adult women aged 21-65 years',\n",
    "       'Fecal occult blood test, sigmoidoscopy, or colonoscopy among adults aged 50-75 years',\n",
    "       'Mammography use among women aged 50-74 years',\n",
    "       'Older adult men aged >=65 years who are up to date on a core set of clinical preventive services: Flu shot past year, PPV shot ever, Colorectal cancer screening',\n",
    "       'Older adult women aged >=65 years who are up to date on a core set of clinical preventive services: Flu shot past year, PPV shot ever, Colorectal cancer screening, and Mammogram past 2 years',\n",
    "       'Visits to dentist or dental clinic among adults aged >=18 years',\n",
    "    \t'Any disability among adults aged >=18 years',\n",
    "       'Arthritis among adults aged >=18 years',\n",
    "       'Cancer (excluding skin cancer) among adults aged >=18 years',\n",
    "       'Cholesterol screening among adults aged >=18 years',\n",
    "       'Chronic kidney disease among adults aged >=18 years',\n",
    "       'Chronic obstructive pulmonary disease among adults aged >=18 years',\n",
    "       'Cognitive disability among adults ages >=18 years',\n",
    "       'Coronary heart disease among adults aged >=18 years',\n",
    "       'Current asthma among adults aged >=18 years',\n",
    "       'Current lack of health insurance among adults aged 18-64 years',\n",
    "       'Depression among adults aged >=18 years',\n",
    "       'Diagnosed diabetes among adults aged >=18 years',\n",
    "       'Fair or poor self-rated health status among adults aged >=18 years',\n",
    "       'Hearing disability among adults aged >=18 years',\n",
    "       'High blood pressure among adults aged >=18 years',\n",
    "       'High cholesterol among adults aged >=18 years who have been screened in the past 5 years',\n",
    "       'Independent living disability among adults aged >=18 years',\n",
    "       'Mental health not good for >=14 days among adults aged >=18 years',\n",
    "       'Mobility disability among adults aged >=18 years',\n",
    "       'Obesity among adults aged >=18 years',\n",
    "       'Physical health not good for >=14 days among adults aged >=18 years',\n",
    "       'Self-care disability among adults aged >=18 years',\n",
    "       'Stroke among adults aged >=18 years',\n",
    "       'Taking medicine for high blood pressure control among adults aged >=18 years with high blood pressure',\n",
    "       'Vision disability among adults aged >=18 years',\n",
    "       'Visits to doctor for routine checkup within the past year among adults aged >=18 years'])"
   ]
  },
  {
   "cell_type": "code",
   "execution_count": 9,
   "metadata": {},
   "outputs": [
    {
     "data": {
      "text/plain": [
       "Index(['Sleeping less than 7 hours among adults aged >=18 years',\n",
       "       'Binge drinking among adults aged >=18 years',\n",
       "       'Current smoking among adults aged >=18 years',\n",
       "       'No leisure-time physical activity among adults aged >=18 years'],\n",
       "      dtype='object')"
      ]
     },
     "execution_count": 9,
     "metadata": {},
     "output_type": "execute_result"
    }
   ],
   "source": [
    "cdc_risks.columns"
   ]
  },
  {
   "cell_type": "code",
   "execution_count": 10,
   "metadata": {},
   "outputs": [],
   "source": [
    "from sklearn.cluster import KMeans\n",
    "\n",
    "kmeans_health = KMeans(n_clusters= 4, random_state=59000, n_init=\"auto\").fit(cdc_health_outcomes)\n",
    "kmeans_health.labels_\n",
    "cdc_20_21['KMeans_Health_Outcome_cluster'] = kmeans_health.labels_"
   ]
  },
  {
   "cell_type": "code",
   "execution_count": 43,
   "metadata": {},
   "outputs": [],
   "source": []
  },
  {
   "cell_type": "code",
   "execution_count": 18,
   "metadata": {},
   "outputs": [],
   "source": [
    "#cdc_20_21"
   ]
  },
  {
   "cell_type": "code",
   "execution_count": 12,
   "metadata": {},
   "outputs": [],
   "source": [
    "#cdc_20_21.columns"
   ]
  },
  {
   "cell_type": "markdown",
   "metadata": {},
   "source": [
    "__Silouette score__"
   ]
  },
  {
   "cell_type": "code",
   "execution_count": 11,
   "metadata": {},
   "outputs": [],
   "source": [
    "import sklearn.metrics as sklm"
   ]
  },
  {
   "cell_type": "code",
   "execution_count": 48,
   "metadata": {},
   "outputs": [],
   "source": []
  },
  {
   "cell_type": "code",
   "execution_count": 12,
   "metadata": {},
   "outputs": [
    {
     "name": "stdout",
     "output_type": "stream",
     "text": [
      "Silhouette Score: 0.2532805308976713\n"
     ]
    }
   ],
   "source": [
    "kmeans_ps = KMeans(n_clusters= 3, random_state=64000, n_init= 200,algorithm='elkan').fit(cdc_pservices) #, n_init=\"auto\"\n",
    "kmeans_ps.labels_\n",
    "cdc_20_21['KMeans_PS_cluster'] = kmeans_ps.labels_\n",
    "cdc_kMeans_HO_cluster = kmeans_ps.labels_\n",
    "# These lines calculate the silhouette score...\n",
    "silhouette_kmeans = sklm.silhouette_score(cdc_pservices, cdc_20_21['KMeans_PS_cluster'])\n",
    "\n",
    "# ... and print it:\n",
    "print(\"Silhouette Score:\", silhouette_kmeans)"
   ]
  },
  {
   "cell_type": "markdown",
   "metadata": {},
   "source": [
    "Clustering on Services:"
   ]
  },
  {
   "cell_type": "code",
   "execution_count": null,
   "metadata": {},
   "outputs": [],
   "source": []
  },
  {
   "cell_type": "code",
   "execution_count": null,
   "metadata": {},
   "outputs": [],
   "source": [
    "cdc_kMeans_HO_cluster = kmeans_health.labels_\n",
    "# These lines calculate the silhouette score...\n",
    "silhouette_kmeans = sklm.silhouette_score(cdc_health_outcomes, cdc_20_21['KMeans_Health_Outcome_cluster'])\n",
    "\n",
    "# ... and print it:\n",
    "print(\"Silhouette Score:\", silhouette_kmeans)"
   ]
  },
  {
   "cell_type": "markdown",
   "metadata": {},
   "source": [
    "#### 4.2 PCA and other methods to improve cluster performance\n",
    "After running a simple K-means analysis, the results indicates that a PCA is needed."
   ]
  },
  {
   "cell_type": "code",
   "execution_count": 15,
   "metadata": {},
   "outputs": [],
   "source": [
    "from sklearn.decomposition import PCA"
   ]
  },
  {
   "cell_type": "code",
   "execution_count": 16,
   "metadata": {},
   "outputs": [
    {
     "name": "stdout",
     "output_type": "stream",
     "text": [
      "[0.57499772 0.12712756 0.069661   0.0512198  0.03042347 0.02683648\n",
      " 0.01957679 0.01447657 0.01052207 0.00901428]\n"
     ]
    }
   ],
   "source": [
    "from sklearn.preprocessing import StandardScaler\n",
    "\n",
    "# Assuming 'data' is your DataFrame\n",
    "# Standardize the data\n",
    "scaler = StandardScaler()\n",
    "scaled_data = scaler.fit_transform(cdc_20_21_new)\n",
    "\n",
    "# Initialize PCA - Here, we're choosing to keep 10 components\n",
    "pca = PCA(n_components=10)\n",
    "\n",
    "# Fit PCA on the standardized data and transform the data\n",
    "pca_result = pca.fit_transform(scaled_data)\n",
    "\n",
    "# Create a DataFrame with the PCA results\n",
    "pca_df = pd.DataFrame(data=pca_result)\n",
    "\n",
    "# Explained variance ratio\n",
    "print(pca.explained_variance_ratio_)\n",
    "\n"
   ]
  },
  {
   "cell_type": "code",
   "execution_count": 17,
   "metadata": {},
   "outputs": [
    {
     "data": {
      "text/html": [
       "<div>\n",
       "<style scoped>\n",
       "    .dataframe tbody tr th:only-of-type {\n",
       "        vertical-align: middle;\n",
       "    }\n",
       "\n",
       "    .dataframe tbody tr th {\n",
       "        vertical-align: top;\n",
       "    }\n",
       "\n",
       "    .dataframe thead th {\n",
       "        text-align: right;\n",
       "    }\n",
       "</style>\n",
       "<table border=\"1\" class=\"dataframe\">\n",
       "  <thead>\n",
       "    <tr style=\"text-align: right;\">\n",
       "      <th></th>\n",
       "      <th>0</th>\n",
       "      <th>1</th>\n",
       "      <th>2</th>\n",
       "      <th>3</th>\n",
       "      <th>4</th>\n",
       "      <th>5</th>\n",
       "      <th>6</th>\n",
       "      <th>7</th>\n",
       "      <th>8</th>\n",
       "      <th>9</th>\n",
       "    </tr>\n",
       "  </thead>\n",
       "  <tbody>\n",
       "    <tr>\n",
       "      <th>0</th>\n",
       "      <td>-0.923362</td>\n",
       "      <td>9.834822</td>\n",
       "      <td>1.355002</td>\n",
       "      <td>-1.171263</td>\n",
       "      <td>0.050953</td>\n",
       "      <td>-0.833552</td>\n",
       "      <td>-0.137594</td>\n",
       "      <td>-2.005434</td>\n",
       "      <td>-1.288181</td>\n",
       "      <td>1.642374</td>\n",
       "    </tr>\n",
       "    <tr>\n",
       "      <th>1</th>\n",
       "      <td>-4.993415</td>\n",
       "      <td>9.156221</td>\n",
       "      <td>1.603447</td>\n",
       "      <td>-0.348518</td>\n",
       "      <td>-0.052055</td>\n",
       "      <td>-1.624518</td>\n",
       "      <td>0.146107</td>\n",
       "      <td>-1.922545</td>\n",
       "      <td>-0.850707</td>\n",
       "      <td>1.179285</td>\n",
       "    </tr>\n",
       "    <tr>\n",
       "      <th>2</th>\n",
       "      <td>-5.963018</td>\n",
       "      <td>4.777293</td>\n",
       "      <td>0.082240</td>\n",
       "      <td>1.617665</td>\n",
       "      <td>0.455914</td>\n",
       "      <td>-0.013704</td>\n",
       "      <td>0.159262</td>\n",
       "      <td>-0.769606</td>\n",
       "      <td>0.093813</td>\n",
       "      <td>0.276777</td>\n",
       "    </tr>\n",
       "    <tr>\n",
       "      <th>3</th>\n",
       "      <td>11.122738</td>\n",
       "      <td>10.251372</td>\n",
       "      <td>-2.509567</td>\n",
       "      <td>2.382421</td>\n",
       "      <td>3.699258</td>\n",
       "      <td>1.594785</td>\n",
       "      <td>0.764078</td>\n",
       "      <td>0.332113</td>\n",
       "      <td>0.161919</td>\n",
       "      <td>-0.696617</td>\n",
       "    </tr>\n",
       "    <tr>\n",
       "      <th>4</th>\n",
       "      <td>-3.004177</td>\n",
       "      <td>4.938847</td>\n",
       "      <td>-1.516660</td>\n",
       "      <td>0.188305</td>\n",
       "      <td>0.571232</td>\n",
       "      <td>1.154215</td>\n",
       "      <td>1.210253</td>\n",
       "      <td>-0.437510</td>\n",
       "      <td>-0.041439</td>\n",
       "      <td>-0.362304</td>\n",
       "    </tr>\n",
       "    <tr>\n",
       "      <th>...</th>\n",
       "      <td>...</td>\n",
       "      <td>...</td>\n",
       "      <td>...</td>\n",
       "      <td>...</td>\n",
       "      <td>...</td>\n",
       "      <td>...</td>\n",
       "      <td>...</td>\n",
       "      <td>...</td>\n",
       "      <td>...</td>\n",
       "      <td>...</td>\n",
       "    </tr>\n",
       "    <tr>\n",
       "      <th>3071</th>\n",
       "      <td>-3.357888</td>\n",
       "      <td>4.111041</td>\n",
       "      <td>-0.497788</td>\n",
       "      <td>0.562698</td>\n",
       "      <td>0.240819</td>\n",
       "      <td>-0.548010</td>\n",
       "      <td>0.868126</td>\n",
       "      <td>-1.621412</td>\n",
       "      <td>-0.180763</td>\n",
       "      <td>-0.317702</td>\n",
       "    </tr>\n",
       "    <tr>\n",
       "      <th>3072</th>\n",
       "      <td>-9.779254</td>\n",
       "      <td>2.586629</td>\n",
       "      <td>0.409171</td>\n",
       "      <td>0.201463</td>\n",
       "      <td>-0.155806</td>\n",
       "      <td>1.097183</td>\n",
       "      <td>0.259091</td>\n",
       "      <td>0.157113</td>\n",
       "      <td>-0.984334</td>\n",
       "      <td>-0.303016</td>\n",
       "    </tr>\n",
       "    <tr>\n",
       "      <th>3073</th>\n",
       "      <td>-3.077341</td>\n",
       "      <td>4.450180</td>\n",
       "      <td>-0.736844</td>\n",
       "      <td>0.585495</td>\n",
       "      <td>-0.072673</td>\n",
       "      <td>0.103726</td>\n",
       "      <td>1.658188</td>\n",
       "      <td>-1.405341</td>\n",
       "      <td>-0.307187</td>\n",
       "      <td>0.249335</td>\n",
       "    </tr>\n",
       "    <tr>\n",
       "      <th>3074</th>\n",
       "      <td>-2.557613</td>\n",
       "      <td>3.770433</td>\n",
       "      <td>-1.510226</td>\n",
       "      <td>-1.128252</td>\n",
       "      <td>-0.902490</td>\n",
       "      <td>0.685434</td>\n",
       "      <td>1.196363</td>\n",
       "      <td>-1.633601</td>\n",
       "      <td>0.299058</td>\n",
       "      <td>-0.322269</td>\n",
       "    </tr>\n",
       "    <tr>\n",
       "      <th>3075</th>\n",
       "      <td>-1.078841</td>\n",
       "      <td>4.057675</td>\n",
       "      <td>-2.085868</td>\n",
       "      <td>-0.745379</td>\n",
       "      <td>-0.268722</td>\n",
       "      <td>0.104701</td>\n",
       "      <td>1.382553</td>\n",
       "      <td>-1.776211</td>\n",
       "      <td>0.041828</td>\n",
       "      <td>-0.553565</td>\n",
       "    </tr>\n",
       "  </tbody>\n",
       "</table>\n",
       "<p>3076 rows × 10 columns</p>\n",
       "</div>"
      ],
      "text/plain": [
       "              0          1         2         3         4         5         6  \\\n",
       "0     -0.923362   9.834822  1.355002 -1.171263  0.050953 -0.833552 -0.137594   \n",
       "1     -4.993415   9.156221  1.603447 -0.348518 -0.052055 -1.624518  0.146107   \n",
       "2     -5.963018   4.777293  0.082240  1.617665  0.455914 -0.013704  0.159262   \n",
       "3     11.122738  10.251372 -2.509567  2.382421  3.699258  1.594785  0.764078   \n",
       "4     -3.004177   4.938847 -1.516660  0.188305  0.571232  1.154215  1.210253   \n",
       "...         ...        ...       ...       ...       ...       ...       ...   \n",
       "3071  -3.357888   4.111041 -0.497788  0.562698  0.240819 -0.548010  0.868126   \n",
       "3072  -9.779254   2.586629  0.409171  0.201463 -0.155806  1.097183  0.259091   \n",
       "3073  -3.077341   4.450180 -0.736844  0.585495 -0.072673  0.103726  1.658188   \n",
       "3074  -2.557613   3.770433 -1.510226 -1.128252 -0.902490  0.685434  1.196363   \n",
       "3075  -1.078841   4.057675 -2.085868 -0.745379 -0.268722  0.104701  1.382553   \n",
       "\n",
       "             7         8         9  \n",
       "0    -2.005434 -1.288181  1.642374  \n",
       "1    -1.922545 -0.850707  1.179285  \n",
       "2    -0.769606  0.093813  0.276777  \n",
       "3     0.332113  0.161919 -0.696617  \n",
       "4    -0.437510 -0.041439 -0.362304  \n",
       "...        ...       ...       ...  \n",
       "3071 -1.621412 -0.180763 -0.317702  \n",
       "3072  0.157113 -0.984334 -0.303016  \n",
       "3073 -1.405341 -0.307187  0.249335  \n",
       "3074 -1.633601  0.299058 -0.322269  \n",
       "3075 -1.776211  0.041828 -0.553565  \n",
       "\n",
       "[3076 rows x 10 columns]"
      ]
     },
     "execution_count": 17,
     "metadata": {},
     "output_type": "execute_result"
    }
   ],
   "source": [
    "pca_df"
   ]
  },
  {
   "cell_type": "code",
   "execution_count": 22,
   "metadata": {},
   "outputs": [
    {
     "data": {
      "text/plain": [
       "array([0, 0, 0, ..., 0, 0, 0], dtype=int32)"
      ]
     },
     "execution_count": 22,
     "metadata": {},
     "output_type": "execute_result"
    }
   ],
   "source": [
    "kmeans_afterPCA = KMeans(n_clusters=2, random_state=0, n_init=\"auto\").fit(pca_df)\n",
    "kmeans_afterPCA.labels_"
   ]
  },
  {
   "cell_type": "code",
   "execution_count": 23,
   "metadata": {},
   "outputs": [
    {
     "name": "stdout",
     "output_type": "stream",
     "text": [
      "Silhouette Score: 0.2532805308976713\n"
     ]
    }
   ],
   "source": [
    "cdc_kMeans_cluster2 = kmeans_afterPCA.labels_\n",
    "# These lines calculate the silhouette score...\n",
    "silhouette_kmeans2 = sklm.silhouette_score(pca_df,kmeans_afterPCA.labels_)\n",
    "\n",
    "# ... and print it:\n",
    "print(\"Silhouette Score:\", silhouette_kmeans)"
   ]
  },
  {
   "cell_type": "code",
   "execution_count": 25,
   "metadata": {},
   "outputs": [
    {
     "data": {
      "text/plain": [
       "Text(0, 0.5, 'Price')"
      ]
     },
     "execution_count": 25,
     "metadata": {},
     "output_type": "execute_result"
    },
    {
     "data": {
      "image/png": "[encoded data removed]",
      "text/plain": [
       "<Figure size 640x480 with 1 Axes>"
      ]
     },
     "metadata": {},
     "output_type": "display_data"
    }
   ],
   "source": [
    "plt.scatter(cdc_20_21['Location'], cdc_20_21['Coronary heart disease among adults aged >=18 years'], c=kmeans_afterPCA.labels_,cmap='viridis')\n",
    "plt.ylim(0, 100)\n",
    "plt.xlabel('Location')\n",
    "plt.ylabel('CHD Prevalence')"
   ]
  },
  {
   "cell_type": "code",
   "execution_count": null,
   "metadata": {},
   "outputs": [],
   "source": []
  },
  {
   "cell_type": "code",
   "execution_count": null,
   "metadata": {},
   "outputs": [],
   "source": []
  },
  {
   "cell_type": "markdown",
   "metadata": {},
   "source": [
    "#### DBSCAN "
   ]
  },
  {
   "cell_type": "code",
   "execution_count": null,
   "metadata": {},
   "outputs": [],
   "source": []
  },
  {
   "cell_type": "code",
   "execution_count": null,
   "metadata": {},
   "outputs": [],
   "source": []
  },
  {
   "cell_type": "markdown",
   "metadata": {},
   "source": [
    "#### Spectral Cluster"
   ]
  },
  {
   "cell_type": "code",
   "execution_count": null,
   "metadata": {},
   "outputs": [],
   "source": []
  },
  {
   "cell_type": "code",
   "execution_count": null,
   "metadata": {},
   "outputs": [],
   "source": []
  },
  {
   "cell_type": "code",
   "execution_count": null,
   "metadata": {},
   "outputs": [],
   "source": []
  }
 ],
 "metadata": {
  "kernelspec": {
   "display_name": "Python 3",
   "language": "python",
   "name": "python3"
  },
  "language_info": {
   "codemirror_mode": {
    "name": "ipython",
    "version": 3
   },
   "file_extension": ".py",
   "mimetype": "text/x-python",
   "name": "python",
   "nbconvert_exporter": "python",
   "pygments_lexer": "ipython3",
   "version": "3.10.12"
  }
 },
 "nbformat": 4,
 "nbformat_minor": 2
}
