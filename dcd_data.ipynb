{
 "cells": [
  {
   "cell_type": "markdown",
   "metadata": {},
   "source": [
    "## CDC Data\n",
    "Migrated to CDC data.\n",
    "\n",
    "PLACE Main Link:\n",
    "https://data.cdc.gov/browse?category=500+Cities+%26+Places\n",
    "\n",
    "link: \n",
    "for 2023:\n",
    "https://data.cdc.gov/500-Cities-Places/PLACES-Local-Data-for-Better-Health-County-Data-20/swc5-untb/about_data\n",
    "\n",
    "for 2019:\n",
    "https://data.cdc.gov/500-Cities-Places/500-Cities-City-level-Data-GIS-Friendly-Format-201/dxpw-cm5u/about_data\n",
    "\n"
   ]
  },
  {
   "cell_type": "code",
   "execution_count": 1,
   "metadata": {},
   "outputs": [],
   "source": [
    "import pandas as pd\n",
    "import numpy as np\n",
    "import matplotlib.pyplot as plt\n",
    "import seaborn as sns\n",
    "import os\n",
    "import sys\n",
    "import time\n",
    "import datetime\n",
    "import math\n",
    "import pandas as pd\n",
    "#from sklearn import preprocessing\n",
    "#from sklearn.model_selection import train_test_split"
   ]
  },
  {
   "cell_type": "code",
   "execution_count": null,
   "metadata": {},
   "outputs": [],
   "source": [
    "# Read the Excel file from disk D located at: D:/OneDrive - University College London/T1/CASA0007/0. Research Project\n",
    "city_df = pd.read_excel(r\"/mnt/d/OneDrive - University College London/T1/CASA0007/0. Research Project/Built Environment Health Equity Data Table.xlsx\", sheet_name=\"City data\")\n",
    "\n",
    "# show df\n",
    "city_df.columns = city_df.iloc[0, :]\n",
    "\n",
    "# Drop the second row\n",
    "city_df = city_df.iloc[1:, :]"
   ]
  },
  {
   "cell_type": "markdown",
   "metadata": {},
   "source": []
  },
  {
   "cell_type": "markdown",
   "metadata": {},
   "source": []
  }
 ],
 "metadata": {
  "kernelspec": {
   "display_name": "Python 3",
   "language": "python",
   "name": "python3"
  },
  "language_info": {
   "codemirror_mode": {
    "name": "ipython",
    "version": 3
   },
   "file_extension": ".py",
   "mimetype": "text/x-python",
   "name": "python",
   "nbconvert_exporter": "python",
   "pygments_lexer": "ipython3",
   "version": "3.10.12"
  }
 },
 "nbformat": 4,
 "nbformat_minor": 2
}
